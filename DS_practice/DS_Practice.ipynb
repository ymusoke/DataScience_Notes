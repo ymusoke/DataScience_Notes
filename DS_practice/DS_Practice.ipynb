{
 "cells": [
  {
   "cell_type": "markdown",
   "id": "951cb255",
   "metadata": {},
   "source": [
    "<h2 style =\"color:orange\">Learning Data Science with Python</h2>\n",
    "<h4 style =\"color:blue\">Getting started with linear Regression</h4>"
   ]
  },
  {
   "cell_type": "code",
   "execution_count": 1,
   "id": "66bb3013",
   "metadata": {},
   "outputs": [],
   "source": [
    "#get packages\n",
    "import pandas as pd\n",
    "import matplotlib.pyplot as plt\n",
    "import pickle\n",
    "%matplotlib inline"
   ]
  },
  {
   "cell_type": "code",
   "execution_count": 2,
   "id": "a08f6149",
   "metadata": {},
   "outputs": [],
   "source": [
    "df = pd.read_csv('advert.csv')"
   ]
  },
  {
   "cell_type": "code",
   "execution_count": 3,
   "id": "d8de9499",
   "metadata": {},
   "outputs": [
    {
     "data": {
      "text/html": [
       "<div>\n",
       "<style scoped>\n",
       "    .dataframe tbody tr th:only-of-type {\n",
       "        vertical-align: middle;\n",
       "    }\n",
       "\n",
       "    .dataframe tbody tr th {\n",
       "        vertical-align: top;\n",
       "    }\n",
       "\n",
       "    .dataframe thead th {\n",
       "        text-align: right;\n",
       "    }\n",
       "</style>\n",
       "<table border=\"1\" class=\"dataframe\">\n",
       "  <thead>\n",
       "    <tr style=\"text-align: right;\">\n",
       "      <th></th>\n",
       "      <th>Unnamed: 0</th>\n",
       "      <th>TV</th>\n",
       "      <th>Radio</th>\n",
       "      <th>Newspaper</th>\n",
       "      <th>Sales</th>\n",
       "    </tr>\n",
       "  </thead>\n",
       "  <tbody>\n",
       "    <tr>\n",
       "      <th>0</th>\n",
       "      <td>1</td>\n",
       "      <td>230.1</td>\n",
       "      <td>37.8</td>\n",
       "      <td>69.2</td>\n",
       "      <td>22.1</td>\n",
       "    </tr>\n",
       "    <tr>\n",
       "      <th>1</th>\n",
       "      <td>2</td>\n",
       "      <td>44.5</td>\n",
       "      <td>39.3</td>\n",
       "      <td>45.1</td>\n",
       "      <td>10.4</td>\n",
       "    </tr>\n",
       "    <tr>\n",
       "      <th>2</th>\n",
       "      <td>3</td>\n",
       "      <td>17.2</td>\n",
       "      <td>45.9</td>\n",
       "      <td>69.3</td>\n",
       "      <td>9.3</td>\n",
       "    </tr>\n",
       "    <tr>\n",
       "      <th>3</th>\n",
       "      <td>4</td>\n",
       "      <td>151.5</td>\n",
       "      <td>41.3</td>\n",
       "      <td>58.5</td>\n",
       "      <td>18.5</td>\n",
       "    </tr>\n",
       "    <tr>\n",
       "      <th>4</th>\n",
       "      <td>5</td>\n",
       "      <td>180.8</td>\n",
       "      <td>10.8</td>\n",
       "      <td>58.4</td>\n",
       "      <td>12.9</td>\n",
       "    </tr>\n",
       "  </tbody>\n",
       "</table>\n",
       "</div>"
      ],
      "text/plain": [
       "   Unnamed: 0     TV  Radio  Newspaper  Sales\n",
       "0           1  230.1   37.8       69.2   22.1\n",
       "1           2   44.5   39.3       45.1   10.4\n",
       "2           3   17.2   45.9       69.3    9.3\n",
       "3           4  151.5   41.3       58.5   18.5\n",
       "4           5  180.8   10.8       58.4   12.9"
      ]
     },
     "execution_count": 3,
     "metadata": {},
     "output_type": "execute_result"
    }
   ],
   "source": [
    "df.head()"
   ]
  },
  {
   "cell_type": "markdown",
   "id": "804eb54b",
   "metadata": {},
   "source": [
    "<h6 style = \"color:blue\"><i> Examing the linear regression of at least one feature in relation to the output</i></h6>"
   ]
  },
  {
   "cell_type": "code",
   "execution_count": 5,
   "id": "5ea66d03",
   "metadata": {},
   "outputs": [
    {
     "data": {
      "text/html": [
       "<div>\n",
       "<style scoped>\n",
       "    .dataframe tbody tr th:only-of-type {\n",
       "        vertical-align: middle;\n",
       "    }\n",
       "\n",
       "    .dataframe tbody tr th {\n",
       "        vertical-align: top;\n",
       "    }\n",
       "\n",
       "    .dataframe thead th {\n",
       "        text-align: right;\n",
       "    }\n",
       "</style>\n",
       "<table border=\"1\" class=\"dataframe\">\n",
       "  <thead>\n",
       "    <tr style=\"text-align: right;\">\n",
       "      <th></th>\n",
       "      <th>TV</th>\n",
       "    </tr>\n",
       "  </thead>\n",
       "  <tbody>\n",
       "    <tr>\n",
       "      <th>0</th>\n",
       "      <td>50</td>\n",
       "    </tr>\n",
       "  </tbody>\n",
       "</table>\n",
       "</div>"
      ],
      "text/plain": [
       "   TV\n",
       "0  50"
      ]
     },
     "execution_count": 5,
     "metadata": {},
     "output_type": "execute_result"
    }
   ],
   "source": [
    "#get the feature\n",
    "tv_ft = pd.DataFrame({'TV':[50]})\n",
    "tv_ft.head()"
   ]
  },
  {
   "cell_type": "code",
   "execution_count": 6,
   "id": "c7308cf4",
   "metadata": {},
   "outputs": [
    {
     "data": {
      "text/plain": [
       "array([9.40942557])"
      ]
     },
     "execution_count": 6,
     "metadata": {},
     "output_type": "execute_result"
    }
   ],
   "source": [
    "#create x and y\n",
    "ft_cols = ['TV']\n",
    "x = df[ft_cols]\n",
    "y = df.Sales\n",
    "\n",
    "#import another package from sklearn\n",
    "from sklearn.linear_model import LinearRegression\n",
    "lm = LinearRegression()\n",
    "\n",
    "#training the model\n",
    "lm.fit(x,y)\n",
    "\n",
    "#prediction\n",
    "lm.predict(tv_ft)"
   ]
  },
  {
   "cell_type": "markdown",
   "id": "94140b9f",
   "metadata": {},
   "source": [
    "<h5 style =\"color:orange\">Gradient Descent</h5>\n",
    "<p style = \"color:blue\"> Note: Gradient is reffering to errors and descent simply is decrease. So the term Gradient descent, is an attempt to simply describe the minimization of erros</p>"
   ]
  },
  {
   "cell_type": "markdown",
   "id": "91462f52",
   "metadata": {},
   "source": [
    "<h2 style = \"color:orange\">Multiple Linear Regression</h2>\n",
    "<p style = \"color:blue\"> In the previous example, one feature(TV) was used to discover the impact on sales. In multple regression more than one features are studied in order to determine the collective impact on the output(sales).</p>"
   ]
  },
  {
   "cell_type": "markdown",
   "id": "73034956",
   "metadata": {},
   "source": [
    "Note: In linear regression there is only one indipendent feature or variable, in our case it is the TV and this can be represented as follow:<br>\n",
    "<i style = \"color:red\">y&#770; = b<sub>0</sub> + b<sub>1</sub>TV</i>\n",
    "<br>\n",
    "However multiple representtion takes into account all the relevant features as follows:\n",
    "<br>\n",
    "<i style = \"color:red\">y&#770; = b<sub>0</sub> + b<sub>1</sub>TV + b<sub>2</sub>Radio + b<sub>3</sub>Newspaper</i>"
   ]
  },
  {
   "cell_type": "markdown",
   "id": "86c1bb96",
   "metadata": {},
   "source": [
    "<h4 style =\"color:orange\">Python implimentation:</h4>"
   ]
  },
  {
   "cell_type": "code",
   "execution_count": 8,
   "id": "fe7dc77e",
   "metadata": {},
   "outputs": [
    {
     "name": "stderr",
     "output_type": "stream",
     "text": [
      "C:\\Users\\ymuso\\anaconda3\\lib\\site-packages\\sklearn\\base.py:450: UserWarning: X does not have valid feature names, but LinearRegression was fitted with feature names\n",
      "  warnings.warn(\n"
     ]
    },
    {
     "data": {
      "text/plain": [
       "array([8.98734705])"
      ]
     },
     "execution_count": 8,
     "metadata": {},
     "output_type": "execute_result"
    }
   ],
   "source": [
    "#create x and y\n",
    "fts_cols =['TV','Radio','Newspaper']\n",
    "x = df[fts_cols]\n",
    "y = df.Sales\n",
    "lm = LinearRegression()\n",
    "lm.fit(x,y)\n",
    "lm.predict([[50,20,10]])"
   ]
  },
  {
   "cell_type": "code",
   "execution_count": null,
   "id": "a91b3aa1",
   "metadata": {},
   "outputs": [],
   "source": []
  }
 ],
 "metadata": {
  "kernelspec": {
   "display_name": "Python 3 (ipykernel)",
   "language": "python",
   "name": "python3"
  },
  "language_info": {
   "codemirror_mode": {
    "name": "ipython",
    "version": 3
   },
   "file_extension": ".py",
   "mimetype": "text/x-python",
   "name": "python",
   "nbconvert_exporter": "python",
   "pygments_lexer": "ipython3",
   "version": "3.9.13"
  }
 },
 "nbformat": 4,
 "nbformat_minor": 5
}
